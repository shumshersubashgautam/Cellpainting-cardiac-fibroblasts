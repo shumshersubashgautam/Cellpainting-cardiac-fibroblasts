{
 "cells": [
  {
   "cell_type": "markdown",
   "metadata": {},
   "source": [
    "# CellProfiler Segmentation and Feature Extraction of CFReT data"
   ]
  },
  {
   "cell_type": "markdown",
   "metadata": {},
   "source": [
    "## Import libraries"
   ]
  },
  {
   "cell_type": "code",
   "execution_count": 1,
   "metadata": {},
   "outputs": [],
   "source": [
    "import pathlib\n",
    "import sys\n",
    "\n",
    "sys.path.append(\"../utils/\")\n",
    "import cputils as cp_utils"
   ]
  },
  {
   "attachments": {},
   "cell_type": "markdown",
   "metadata": {},
   "source": [
    "## Set paths and variables"
   ]
  },
  {
   "cell_type": "code",
   "execution_count": 2,
   "metadata": {},
   "outputs": [],
   "source": [
    "# path to pipeline and output to use for all plates\n",
    "path_to_pipeline = pathlib.Path(\n",
    "    \"./CellProfiler_input/CFReT_project_CL.cppipe\"\n",
    ").resolve()\n",
    "path_to_output = pathlib.Path(\"./CellProfiler_output/\").resolve()\n",
    "\n",
    "plate_info_dictionary = {\n",
    "    \"localhost220512140003_KK22-05-198\": {\n",
    "        \"path_to_images\": pathlib.Path(\n",
    "            \"../1.preprocessing_data/Corrected_Images/localhost220512140003_KK22-05-198/\"\n",
    "        ).resolve(),\n",
    "    },\n",
    "    \"localhost220513100001_KK22-05-198_FactinAdjusted\": {\n",
    "        \"path_to_images\": pathlib.Path(\n",
    "            \"../1.preprocessing_data/Corrected_Images/localhost220513100001_KK22-05-198_FactinAdjusted\"\n",
    "        ).resolve(),\n",
    "    },\n",
    "    \"localhost230405150001\": {\n",
    "        \"path_to_images\": pathlib.Path(\n",
    "            \"../1.preprocessing_data/Corrected_Images/localhost230405150001/\"\n",
    "        ).resolve(),\n",
    "    },\n",
    "}"
   ]
  },
  {
   "attachments": {},
   "cell_type": "markdown",
   "metadata": {},
   "source": [
    "## Run CellProfiler analysis on all plates\n",
    "\n",
    "**Note:** This will run each of the plates in sequential order, with the first plate in the dictionary running first. The SQLite file output will be renamed to the plate that was ran after the run finishes before starting the next plate."
   ]
  },
  {
   "cell_type": "code",
   "execution_count": 3,
   "metadata": {},
   "outputs": [
    {
     "name": "stdout",
     "output_type": "stream",
     "text": [
      "Running analysis on localhost220512140003_KK22-05-198!\n",
      "This plate has already been analyzed!\n",
      "Running analysis on localhost220513100001_KK22-05-198_FactinAdjusted!\n",
      "Starting CellProfiler analysis run on localhost220513100001_KK22-05-198_FactinAdjusted\n"
     ]
    }
   ],
   "source": [
    "# run through each plate sequentially with each set of paths based on dictionary\n",
    "for plate, info in plate_info_dictionary.items():\n",
    "    path_to_images = info[\"path_to_images\"]\n",
    "    print(f\"Running analysis on {plate}!\")\n",
    "\n",
    "    # run analysis pipeline\n",
    "    cp_utils.run_cellprofiler(\n",
    "        path_to_pipeline=path_to_pipeline,\n",
    "        path_to_output=path_to_output,\n",
    "        path_to_images=path_to_images,\n",
    "        # name each SQLite file after plate name\n",
    "        sqlite_name=plate,\n",
    "        analysis_run=True,\n",
    "    )"
   ]
  }
 ],
 "metadata": {
  "kernelspec": {
   "display_name": "cp4",
   "language": "python",
   "name": "python3"
  },
  "language_info": {
   "codemirror_mode": {
    "name": "ipython",
    "version": 3
   },
   "file_extension": ".py",
   "mimetype": "text/x-python",
   "name": "python",
   "nbconvert_exporter": "python",
   "pygments_lexer": "ipython3",
   "version": "3.8.15"
  },
  "orig_nbformat": 4,
  "vscode": {
   "interpreter": {
    "hash": "76e63630a0eb59d63146118723e192b689e9b39a2cbdd1e2e8896e9ba1a56272"
   }
  }
 },
 "nbformat": 4,
 "nbformat_minor": 2
}
