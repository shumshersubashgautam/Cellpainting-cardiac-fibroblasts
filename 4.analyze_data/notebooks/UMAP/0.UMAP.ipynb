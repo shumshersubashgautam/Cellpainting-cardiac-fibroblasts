{
 "cells": [
  {
   "cell_type": "markdown",
   "id": "3e4c30af-7f25-4979-b95f-072658768859",
   "metadata": {},
   "source": [
    "## Extract UMAP embeddings for CFReT CP Features"
   ]
  },
  {
   "cell_type": "code",
   "execution_count": 1,
   "id": "9267d545-c6fe-4982-bb9b-41e25d3b8526",
   "metadata": {},
   "outputs": [],
   "source": [
    "import glob\n",
    "import pathlib\n",
    "import pandas as pd\n",
    "import umap\n",
    "\n",
    "from pycytominer import feature_select\n",
    "from pycytominer.cyto_utils import infer_cp_features"
   ]
  },
  {
   "cell_type": "code",
   "execution_count": 2,
   "id": "0769ce32-b238-4a90-a0ab-a76688a66256",
   "metadata": {},
   "outputs": [],
   "source": [
    "# Set constants\n",
    "umap_random_seed = 1234\n",
    "umap_n_components = 2\n",
    "\n",
    "output_dir = pathlib.Path(\"results\")"
   ]
  },
  {
   "cell_type": "code",
   "execution_count": 3,
   "id": "8a527f37-ad44-4a64-ac3d-6a1de7eff458",
   "metadata": {},
   "outputs": [
    {
     "data": {
      "text/plain": [
       "['../../../3.process-cfret-features/data/localhost220512140003_KK22-05-198_sc_norm_fs_cellprofiler.csv.gz',\n",
       " '../../../3.process-cfret-features/data/localhost220513100001_KK22-05-198_FactinAdjusted_sc_norm_fs_cellprofiler.csv.gz']"
      ]
     },
     "execution_count": 3,
     "metadata": {},
     "output_type": "execute_result"
    }
   ],
   "source": [
    "# Set input paths\n",
    "data_dir = pathlib.Path(\"..\", \"..\", \"..\", \"3.process-cfret-features\", \"data\")\n",
    "\n",
    "# Select only the feature selected files\n",
    "file_suffix = \"*sc_norm_fs_cellprofiler.csv.gz\"\n",
    "\n",
    "# Obtain file paths for all feature selected plates\n",
    "fs_files = glob.glob(f\"{data_dir}/{file_suffix}\")\n",
    "fs_files"
   ]
  },
  {
   "cell_type": "code",
   "execution_count": 4,
   "id": "ea81cb76-72cf-4b74-b839-60fbec683e6b",
   "metadata": {},
   "outputs": [
    {
     "name": "stdout",
     "output_type": "stream",
     "text": [
      "dict_keys(['localhost220512140003_KK22-05-198_sc_norm_fs_cellprofiler.csv.gz', 'localhost220513100001_KK22-05-198_FactinAdjusted_sc_norm_fs_cellprofiler.csv.gz'])\n"
     ]
    },
    {
     "data": {
      "text/plain": [
       "[(41235, 728), (17352, 628)]"
      ]
     },
     "execution_count": 4,
     "metadata": {},
     "output_type": "execute_result"
    }
   ],
   "source": [
    "# Load feature data into a dictionary, keyed on plate name\n",
    "cp_dfs = {x.split(\"/\")[-1]: pd.read_csv(x) for x in fs_files}\n",
    "\n",
    "# Print out useful information about each dataset\n",
    "print(cp_dfs.keys())\n",
    "[cp_dfs[x].shape for x in cp_dfs]"
   ]
  },
  {
   "cell_type": "code",
   "execution_count": 5,
   "id": "3e20a76d-e486-4fe4-ab87-70d3cf8d3502",
   "metadata": {},
   "outputs": [
    {
     "name": "stdout",
     "output_type": "stream",
     "text": [
      "(41235, 2)\n",
      "(17352, 2)\n"
     ]
    }
   ],
   "source": [
    "# Fit UMAP features per dataset and save\n",
    "for plate_name in cp_dfs:\n",
    "    # Make sure to reinitialize UMAP instance per plate\n",
    "    umap_fit = umap.UMAP(\n",
    "        random_state=umap_random_seed,\n",
    "        n_components=umap_n_components\n",
    "    )\n",
    "    \n",
    "    # Remove NA columns\n",
    "    cp_df = cp_dfs[plate_name]\n",
    "    cp_df = feature_select(\n",
    "        cp_df,\n",
    "        operation=\"drop_na_columns\",\n",
    "        na_cutoff=0\n",
    "    )\n",
    "    \n",
    "    # Process cp_df to separate features and metadata\n",
    "    cp_features = infer_cp_features(cp_df)\n",
    "    meta_features = infer_cp_features(cp_df, metadata=True)\n",
    "    \n",
    "    # Fit UMAP and convert to pandas DataFrame\n",
    "    embeddings = pd.DataFrame(\n",
    "        umap_fit.fit_transform(cp_df.loc[:, cp_features]),\n",
    "        columns=[f\"UMAP{x}\" for x in range(0, umap_n_components)]\n",
    "    )\n",
    "    print(embeddings.shape)\n",
    "    \n",
    "    # Combine with metadata\n",
    "    cp_umap_with_metadata_df = pd.concat([\n",
    "        cp_df.loc[:, meta_features],\n",
    "        embeddings\n",
    "    ], axis=1)\n",
    "    \n",
    "    # Generate output file and save\n",
    "    output_umap_file = pathlib.Path(output_dir, f\"UMAP_{plate_name}.tsv.gz\")\n",
    "    cp_umap_with_metadata_df.to_csv(output_umap_file, index=False, sep=\"\\t\")"
   ]
  },
  {
   "cell_type": "code",
   "execution_count": 6,
   "id": "84bd2af7-c3f5-4775-bd7e-fc3cab1f6402",
   "metadata": {},
   "outputs": [
    {
     "data": {
      "text/html": [
       "<div>\n",
       "<style scoped>\n",
       "    .dataframe tbody tr th:only-of-type {\n",
       "        vertical-align: middle;\n",
       "    }\n",
       "\n",
       "    .dataframe tbody tr th {\n",
       "        vertical-align: top;\n",
       "    }\n",
       "\n",
       "    .dataframe thead th {\n",
       "        text-align: right;\n",
       "    }\n",
       "</style>\n",
       "<table border=\"1\" class=\"dataframe\">\n",
       "  <thead>\n",
       "    <tr style=\"text-align: right;\">\n",
       "      <th></th>\n",
       "      <th>Metadata_WellRow</th>\n",
       "      <th>Metadata_WellCol</th>\n",
       "      <th>Metadata_heart_number</th>\n",
       "      <th>Metadata_treatment</th>\n",
       "      <th>Metadata_dose</th>\n",
       "      <th>Metadata_ImageNumber</th>\n",
       "      <th>Metadata_Plate</th>\n",
       "      <th>Metadata_Well</th>\n",
       "      <th>Metadata_Cytoplasm_Parent_Cells</th>\n",
       "      <th>Metadata_Cytoplasm_Parent_Nuclei</th>\n",
       "      <th>Metadata_Cells_Number_Object_Number</th>\n",
       "      <th>Metadata_Nuclei_Number_Object_Number</th>\n",
       "      <th>UMAP0</th>\n",
       "      <th>UMAP1</th>\n",
       "    </tr>\n",
       "  </thead>\n",
       "  <tbody>\n",
       "    <tr>\n",
       "      <th>0</th>\n",
       "      <td>A</td>\n",
       "      <td>9</td>\n",
       "      <td>9</td>\n",
       "      <td>drug_x</td>\n",
       "      <td>5uM</td>\n",
       "      <td>1</td>\n",
       "      <td>localhost220513100001</td>\n",
       "      <td>A09</td>\n",
       "      <td>1</td>\n",
       "      <td>3</td>\n",
       "      <td>1</td>\n",
       "      <td>3</td>\n",
       "      <td>-0.202290</td>\n",
       "      <td>8.736308</td>\n",
       "    </tr>\n",
       "    <tr>\n",
       "      <th>1</th>\n",
       "      <td>A</td>\n",
       "      <td>9</td>\n",
       "      <td>9</td>\n",
       "      <td>drug_x</td>\n",
       "      <td>5uM</td>\n",
       "      <td>1</td>\n",
       "      <td>localhost220513100001</td>\n",
       "      <td>A09</td>\n",
       "      <td>2</td>\n",
       "      <td>4</td>\n",
       "      <td>2</td>\n",
       "      <td>4</td>\n",
       "      <td>-0.293231</td>\n",
       "      <td>12.350656</td>\n",
       "    </tr>\n",
       "    <tr>\n",
       "      <th>2</th>\n",
       "      <td>A</td>\n",
       "      <td>9</td>\n",
       "      <td>9</td>\n",
       "      <td>drug_x</td>\n",
       "      <td>5uM</td>\n",
       "      <td>1</td>\n",
       "      <td>localhost220513100001</td>\n",
       "      <td>A09</td>\n",
       "      <td>3</td>\n",
       "      <td>7</td>\n",
       "      <td>3</td>\n",
       "      <td>7</td>\n",
       "      <td>-0.988466</td>\n",
       "      <td>9.431594</td>\n",
       "    </tr>\n",
       "    <tr>\n",
       "      <th>3</th>\n",
       "      <td>A</td>\n",
       "      <td>9</td>\n",
       "      <td>9</td>\n",
       "      <td>drug_x</td>\n",
       "      <td>5uM</td>\n",
       "      <td>1</td>\n",
       "      <td>localhost220513100001</td>\n",
       "      <td>A09</td>\n",
       "      <td>4</td>\n",
       "      <td>8</td>\n",
       "      <td>4</td>\n",
       "      <td>8</td>\n",
       "      <td>-0.305947</td>\n",
       "      <td>8.224437</td>\n",
       "    </tr>\n",
       "    <tr>\n",
       "      <th>4</th>\n",
       "      <td>A</td>\n",
       "      <td>9</td>\n",
       "      <td>9</td>\n",
       "      <td>drug_x</td>\n",
       "      <td>5uM</td>\n",
       "      <td>1</td>\n",
       "      <td>localhost220513100001</td>\n",
       "      <td>A09</td>\n",
       "      <td>5</td>\n",
       "      <td>9</td>\n",
       "      <td>5</td>\n",
       "      <td>9</td>\n",
       "      <td>-0.272218</td>\n",
       "      <td>12.874844</td>\n",
       "    </tr>\n",
       "  </tbody>\n",
       "</table>\n",
       "</div>"
      ],
      "text/plain": [
       "  Metadata_WellRow  Metadata_WellCol  Metadata_heart_number  \\\n",
       "0                A                 9                      9   \n",
       "1                A                 9                      9   \n",
       "2                A                 9                      9   \n",
       "3                A                 9                      9   \n",
       "4                A                 9                      9   \n",
       "\n",
       "  Metadata_treatment Metadata_dose  Metadata_ImageNumber  \\\n",
       "0             drug_x           5uM                     1   \n",
       "1             drug_x           5uM                     1   \n",
       "2             drug_x           5uM                     1   \n",
       "3             drug_x           5uM                     1   \n",
       "4             drug_x           5uM                     1   \n",
       "\n",
       "          Metadata_Plate Metadata_Well  Metadata_Cytoplasm_Parent_Cells  \\\n",
       "0  localhost220513100001           A09                                1   \n",
       "1  localhost220513100001           A09                                2   \n",
       "2  localhost220513100001           A09                                3   \n",
       "3  localhost220513100001           A09                                4   \n",
       "4  localhost220513100001           A09                                5   \n",
       "\n",
       "   Metadata_Cytoplasm_Parent_Nuclei  Metadata_Cells_Number_Object_Number  \\\n",
       "0                                 3                                    1   \n",
       "1                                 4                                    2   \n",
       "2                                 7                                    3   \n",
       "3                                 8                                    4   \n",
       "4                                 9                                    5   \n",
       "\n",
       "   Metadata_Nuclei_Number_Object_Number     UMAP0      UMAP1  \n",
       "0                                     3 -0.202290   8.736308  \n",
       "1                                     4 -0.293231  12.350656  \n",
       "2                                     7 -0.988466   9.431594  \n",
       "3                                     8 -0.305947   8.224437  \n",
       "4                                     9 -0.272218  12.874844  "
      ]
     },
     "execution_count": 6,
     "metadata": {},
     "output_type": "execute_result"
    }
   ],
   "source": [
    "# Print an example output file\n",
    "cp_umap_with_metadata_df.head()"
   ]
  }
 ],
 "metadata": {
  "kernelspec": {
   "display_name": "Python [conda env:4.analyze_data_CFRET] *",
   "language": "python",
   "name": "conda-env-4.analyze_data_CFRET-py"
  },
  "language_info": {
   "codemirror_mode": {
    "name": "ipython",
    "version": 3
   },
   "file_extension": ".py",
   "mimetype": "text/x-python",
   "name": "python",
   "nbconvert_exporter": "python",
   "pygments_lexer": "ipython3",
   "version": "3.9.12"
  }
 },
 "nbformat": 4,
 "nbformat_minor": 5
}
