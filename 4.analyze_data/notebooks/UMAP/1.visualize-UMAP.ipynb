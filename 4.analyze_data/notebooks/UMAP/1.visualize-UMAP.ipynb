{
 "cells": [
  {
   "cell_type": "markdown",
   "id": "7dadd072-acf6-41ab-99e1-13f492353528",
   "metadata": {},
   "source": [
    "# Visualize UMAP for CP features"
   ]
  },
  {
   "cell_type": "code",
   "execution_count": 1,
   "id": "51558687-bed3-4562-90b3-8dff8482a7bc",
   "metadata": {},
   "outputs": [],
   "source": [
    "suppressPackageStartupMessages(library(ggplot2))\n",
    "suppressPackageStartupMessages(library(dplyr))"
   ]
  },
  {
   "cell_type": "code",
   "execution_count": 2,
   "id": "e7744101-f1a5-4614-8c80-eaea385347ab",
   "metadata": {},
   "outputs": [
    {
     "name": "stdout",
     "output_type": "stream",
     "text": [
      "[1] \"results/UMAP_localhost220512140003_KK22-05-198_sc_norm_fs_cellprofiler.csv.gz.tsv.gz\"               \n",
      "[2] \"results/UMAP_localhost220513100001_KK22-05-198_FactinAdjusted_sc_norm_fs_cellprofiler.csv.gz.tsv.gz\"\n",
      "$`localhost220512140003_KK22-05-198`\n",
      "[1] \"figures/UMAP_localhost220512140003_KK22-05-198\"\n",
      "\n",
      "$`localhost220513100001_KK22-05-198_FactinAdjusted`\n",
      "[1] \"figures/UMAP_localhost220513100001_KK22-05-198_FactinAdjusted\"\n",
      "\n"
     ]
    }
   ],
   "source": [
    "# Set directory and file structure\n",
    "umap_dir <- file.path(\"results\")\n",
    "umap_files <- list.files(umap_dir, full.names = TRUE)\n",
    "print(umap_files)\n",
    "\n",
    "output_fig_dir <- file.path(\"figures\")\n",
    "umap_prefix <- \"UMAP_\"\n",
    "plate_suffix <- \"_sc_norm_fs_cellprofiler.csv.gz.tsv.gz\"\n",
    "\n",
    "# Define output figure paths\n",
    "output_umap_files <- list()\n",
    "for (umap_file in umap_files) {\n",
    "    # Manipulate the \n",
    "    plate <- stringr::str_remove(\n",
    "        stringr::str_remove(\n",
    "            unlist(\n",
    "                strsplit(umap_file, \"/\")\n",
    "            )[2],\n",
    "            umap_prefix\n",
    "        ),\n",
    "        plate_suffix\n",
    "    )\n",
    "    output_umap_files[plate] <- file.path(\n",
    "        output_fig_dir,\n",
    "        paste0(umap_prefix, plate)\n",
    "    )\n",
    "}\n",
    "        \n",
    "print(output_umap_files)"
   ]
  },
  {
   "cell_type": "code",
   "execution_count": 3,
   "id": "577159dc-6a3e-4aee-9e35-93f6c67a88f3",
   "metadata": {},
   "outputs": [],
   "source": [
    "# Load data\n",
    "umap_cp_df <- list()\n",
    "for (plate in names(output_umap_files)) {\n",
    "    # Find the umap file associated with the plate\n",
    "    umap_file <- umap_files[stringr::str_detect(umap_files, plate)]\n",
    "    \n",
    "    # Load in the umap data\n",
    "    df <- readr::read_tsv(\n",
    "        umap_file,\n",
    "        col_types = readr::cols(\n",
    "            .default = \"d\",\n",
    "            \"Metadata_WellRow\" = \"c\",\n",
    "            \"Metadata_WellCol\" = \"c\",\n",
    "            \"Metadata_heart_number\" = \"c\",\n",
    "            \"Metadata_treatment\" = \"c\",\n",
    "            \"Metadata_dose\" = \"c\",\n",
    "            \"Metadata_ImageNumber\" = \"c\",\n",
    "            \"Metadata_Plate\" = \"c\",\n",
    "            \"Metadata_Well\" = \"c\",\n",
    "            \"Metadata_Cytoplasm_Parent_Cells\" = \"c\",\n",
    "            \"Metadata_Cytoplasm_Parent_Nuclei\" = \"c\",\n",
    "            \"Metadata_Cells_Number_Object_Number\" = \"c\",\n",
    "            \"Metadata_Nuclei_Number_Object_Number\" = \"c\"\n",
    "        )\n",
    "    )\n",
    "    \n",
    "    cell_count_df <- df %>%\n",
    "        dplyr::group_by(Metadata_Well) %>%\n",
    "        dplyr::count()\n",
    "\n",
    "    umap_cp_df[[plate]] <- df %>%\n",
    "        dplyr::left_join(cell_count_df, by = \"Metadata_Well\")\n",
    "}"
   ]
  },
  {
   "cell_type": "markdown",
   "id": "3bb312e1-8591-4076-b41c-eb176693be13",
   "metadata": {},
   "source": [
    "## Fix dose ordering for plots"
   ]
  },
  {
   "cell_type": "code",
   "execution_count": 4,
   "id": "7bcff99f-f211-45bd-a861-3f112858860a",
   "metadata": {},
   "outputs": [],
   "source": [
    "# Order the dose column low to high\n",
    "dose_unit = \"uM\"\n",
    "for (plate in names(umap_cp_df)) {\n",
    "    # Pull the associated dataframe\n",
    "    df <- umap_cp_df[[plate]]\n",
    "    \n",
    "    # Extract dose order and sort, then recompile\n",
    "    dose_order <- paste0(\n",
    "        sort(\n",
    "            as.numeric(\n",
    "                stringr::str_remove(\n",
    "                    names(\n",
    "                        table(df$Metadata_dose)\n",
    "                    ),\n",
    "                    dose_unit\n",
    "                )\n",
    "            )\n",
    "        ),\n",
    "        dose_unit\n",
    "    )\n",
    "\n",
    "    # Perform the factor ordering\n",
    "    umap_cp_df[[plate]]$Metadata_dose <- \n",
    "        factor(df$Metadata_dose, levels = dose_order)\n",
    "    }"
   ]
  },
  {
   "cell_type": "markdown",
   "id": "c439d6c0-3931-4e01-87b6-b107e62a0fbe",
   "metadata": {},
   "source": [
    "## Generate UMAPs"
   ]
  },
  {
   "cell_type": "code",
   "execution_count": 5,
   "id": "764ff93a-322e-4b1a-bda6-e42f9a302f3e",
   "metadata": {},
   "outputs": [],
   "source": [
    "for (plate in names(umap_cp_df)) {\n",
    "    # Treatment UMAP\n",
    "    output_file <- output_umap_files[[plate]]\n",
    "    output_file <- paste0(output_file, \"_treatment.png\")\n",
    "    \n",
    "    treatment_gg <- (\n",
    "        ggplot(umap_cp_df[[plate]], aes(x = UMAP0, y = UMAP1))\n",
    "        + geom_point(\n",
    "            aes(color = Metadata_treatment), size = 0.4, alpha = 0.7\n",
    "        )\n",
    "        + theme_bw()\n",
    "        + scale_color_manual(\n",
    "            name = \"Treatment\",\n",
    "            values = c(\"DMSO\" = \"#BA5A31\", \"drug_x\" = \"#69DC9E\")\n",
    "        )\n",
    "    )\n",
    "    \n",
    "    ggsave(output_file, treatment_gg, dpi = 500, height = 6, width = 6)\n",
    "    \n",
    "    # Dose UMAP\n",
    "    output_file <- output_umap_files[[plate]]\n",
    "    output_file <- paste0(output_file, \"_dose_facet.png\")\n",
    "    \n",
    "    umap_dose_gg <- (\n",
    "        ggplot(umap_cp_df[[plate]], aes(x = UMAP0, y = UMAP1))\n",
    "        + geom_point(\n",
    "            aes(color = n), size = 0.4, alpha = 0.7\n",
    "        )\n",
    "        + theme_bw()\n",
    "        + facet_wrap(\"~Metadata_dose\")\n",
    "        + theme(\n",
    "            strip.background = element_rect(colour = \"black\", fill = \"#fdfff4\")\n",
    "        )\n",
    "        + scale_color_continuous(name = \"Number of\\nsingle cells\\nper well\")\n",
    "    )\n",
    "    \n",
    "    ggsave(output_file, umap_dose_gg, dpi = 500, height = 6, width = 6)\n",
    "    \n",
    "}"
   ]
  },
  {
   "cell_type": "code",
   "execution_count": 6,
   "id": "36585a65-5b05-4f08-ad92-52fe1b82600c",
   "metadata": {},
   "outputs": [],
   "source": [
    "# Plot with multiple hearts\n",
    "plate_with_multiple_hearts <- c(\"localhost220512140003_KK22-05-198\")\n",
    "\n",
    "for (plate in plate_with_multiple_hearts) {\n",
    "    # Heart UMAP\n",
    "    output_file <- output_umap_files[[plate]]\n",
    "    output_file <- paste0(output_file, \"_hearts.png\")\n",
    "    \n",
    "    heart_gg <- (\n",
    "        ggplot(umap_cp_df[[plate]], aes(x = UMAP0, y = UMAP1))\n",
    "        + geom_point(\n",
    "            aes(color = Metadata_heart_number), size = 0.4, alpha = 0.7\n",
    "        )\n",
    "        + theme_bw()\n",
    "    )\n",
    "    \n",
    "    ggsave(output_file, heart_gg, dpi = 500, height = 6, width = 6)\n",
    "    }"
   ]
  }
 ],
 "metadata": {
  "kernelspec": {
   "display_name": "R [conda env:cfret_figures]",
   "language": "R",
   "name": "conda-env-cfret_figures-r"
  },
  "language_info": {
   "codemirror_mode": "r",
   "file_extension": ".r",
   "mimetype": "text/x-r-source",
   "name": "R",
   "pygments_lexer": "r",
   "version": "4.2.2"
  }
 },
 "nbformat": 4,
 "nbformat_minor": 5
}
