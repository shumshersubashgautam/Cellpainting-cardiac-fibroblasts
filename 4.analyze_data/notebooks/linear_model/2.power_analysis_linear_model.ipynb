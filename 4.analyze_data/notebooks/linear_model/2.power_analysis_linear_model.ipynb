{
 "cells": [
  {
   "cell_type": "markdown",
   "id": "f012082e-e79e-45d6-9465-10eddbea2722",
   "metadata": {},
   "source": [
    "## Perform power analysis given observed linear model effect sizes"
   ]
  },
  {
   "cell_type": "code",
   "execution_count": 1,
   "id": "0ffa9ec7-49ba-4a8c-95e7-16eeb07ab9a9",
   "metadata": {},
   "outputs": [],
   "source": [
    "library(pwr)\n",
    "suppressPackageStartupMessages(library(dplyr))"
   ]
  },
  {
   "cell_type": "code",
   "execution_count": 2,
   "id": "e5247d2b-ef92-4cd7-ba31-85725cba5c6d",
   "metadata": {},
   "outputs": [],
   "source": [
    "plate <- \"localhost220513100001_KK22-05-198_FactinAdjusted\"\n",
    "\n",
    "lm_results_file <- file.path(\"results\", paste0(plate, \"_linear_model_cp_features.tsv\"))\n",
    "output_file <- file.path(\"results\", paste0(plate, \"_power_analysis_cp_features_lm.tsv\"))"
   ]
  },
  {
   "cell_type": "code",
   "execution_count": 3,
   "id": "821b874e-9a9f-4280-b9fa-8c010b11cc69",
   "metadata": {},
   "outputs": [
    {
     "name": "stdout",
     "output_type": "stream",
     "text": [
      "[1] 585   4\n"
     ]
    },
    {
     "data": {
      "text/html": [
       "<table class=\"dataframe\">\n",
       "<caption>A tibble: 6 × 4</caption>\n",
       "<thead>\n",
       "\t<tr><th scope=col>feature</th><th scope=col>r2_score</th><th scope=col>cell_count_coef</th><th scope=col>treatment_dose_coef</th></tr>\n",
       "\t<tr><th scope=col>&lt;chr&gt;</th><th scope=col>&lt;dbl&gt;</th><th scope=col>&lt;dbl&gt;</th><th scope=col>&lt;dbl&gt;</th></tr>\n",
       "</thead>\n",
       "<tbody>\n",
       "\t<tr><td>Cytoplasm_AreaShape_Compactness    </td><td>0.04421516</td><td>-2.511474e-05</td><td>-0.07800511</td></tr>\n",
       "\t<tr><td>Cytoplasm_AreaShape_Extent         </td><td>0.06927086</td><td>-7.737930e-05</td><td> 0.09629138</td></tr>\n",
       "\t<tr><td>Cytoplasm_AreaShape_FormFactor     </td><td>0.09534301</td><td>-1.595287e-04</td><td> 0.11192168</td></tr>\n",
       "\t<tr><td>Cytoplasm_AreaShape_MajorAxisLength</td><td>0.08323591</td><td>-1.751328e-03</td><td> 0.01435686</td></tr>\n",
       "\t<tr><td>Cytoplasm_AreaShape_Perimeter      </td><td>0.04565131</td><td>-1.368908e-03</td><td>-0.01115763</td></tr>\n",
       "\t<tr><td>Cytoplasm_AreaShape_Solidity       </td><td>0.10653768</td><td>-1.835768e-04</td><td> 0.11806437</td></tr>\n",
       "</tbody>\n",
       "</table>\n"
      ],
      "text/latex": [
       "A tibble: 6 × 4\n",
       "\\begin{tabular}{llll}\n",
       " feature & r2\\_score & cell\\_count\\_coef & treatment\\_dose\\_coef\\\\\n",
       " <chr> & <dbl> & <dbl> & <dbl>\\\\\n",
       "\\hline\n",
       "\t Cytoplasm\\_AreaShape\\_Compactness     & 0.04421516 & -2.511474e-05 & -0.07800511\\\\\n",
       "\t Cytoplasm\\_AreaShape\\_Extent          & 0.06927086 & -7.737930e-05 &  0.09629138\\\\\n",
       "\t Cytoplasm\\_AreaShape\\_FormFactor      & 0.09534301 & -1.595287e-04 &  0.11192168\\\\\n",
       "\t Cytoplasm\\_AreaShape\\_MajorAxisLength & 0.08323591 & -1.751328e-03 &  0.01435686\\\\\n",
       "\t Cytoplasm\\_AreaShape\\_Perimeter       & 0.04565131 & -1.368908e-03 & -0.01115763\\\\\n",
       "\t Cytoplasm\\_AreaShape\\_Solidity        & 0.10653768 & -1.835768e-04 &  0.11806437\\\\\n",
       "\\end{tabular}\n"
      ],
      "text/markdown": [
       "\n",
       "A tibble: 6 × 4\n",
       "\n",
       "| feature &lt;chr&gt; | r2_score &lt;dbl&gt; | cell_count_coef &lt;dbl&gt; | treatment_dose_coef &lt;dbl&gt; |\n",
       "|---|---|---|---|\n",
       "| Cytoplasm_AreaShape_Compactness     | 0.04421516 | -2.511474e-05 | -0.07800511 |\n",
       "| Cytoplasm_AreaShape_Extent          | 0.06927086 | -7.737930e-05 |  0.09629138 |\n",
       "| Cytoplasm_AreaShape_FormFactor      | 0.09534301 | -1.595287e-04 |  0.11192168 |\n",
       "| Cytoplasm_AreaShape_MajorAxisLength | 0.08323591 | -1.751328e-03 |  0.01435686 |\n",
       "| Cytoplasm_AreaShape_Perimeter       | 0.04565131 | -1.368908e-03 | -0.01115763 |\n",
       "| Cytoplasm_AreaShape_Solidity        | 0.10653768 | -1.835768e-04 |  0.11806437 |\n",
       "\n"
      ],
      "text/plain": [
       "  feature                             r2_score   cell_count_coef\n",
       "1 Cytoplasm_AreaShape_Compactness     0.04421516 -2.511474e-05  \n",
       "2 Cytoplasm_AreaShape_Extent          0.06927086 -7.737930e-05  \n",
       "3 Cytoplasm_AreaShape_FormFactor      0.09534301 -1.595287e-04  \n",
       "4 Cytoplasm_AreaShape_MajorAxisLength 0.08323591 -1.751328e-03  \n",
       "5 Cytoplasm_AreaShape_Perimeter       0.04565131 -1.368908e-03  \n",
       "6 Cytoplasm_AreaShape_Solidity        0.10653768 -1.835768e-04  \n",
       "  treatment_dose_coef\n",
       "1 -0.07800511        \n",
       "2  0.09629138        \n",
       "3  0.11192168        \n",
       "4  0.01435686        \n",
       "5 -0.01115763        \n",
       "6  0.11806437        "
      ]
     },
     "metadata": {},
     "output_type": "display_data"
    }
   ],
   "source": [
    "# Load linear model results\n",
    "lm_results_df <- readr::read_tsv(\n",
    "    lm_results_file,\n",
    "    col_types = readr::cols(.default=\"d\", feature=\"c\")\n",
    ")\n",
    "\n",
    "print(dim(lm_results_df))\n",
    "head(lm_results_df)"
   ]
  },
  {
   "cell_type": "code",
   "execution_count": 4,
   "id": "206c80dc-934f-4aff-84da-c386b2677e94",
   "metadata": {},
   "outputs": [
    {
     "name": "stdout",
     "output_type": "stream",
     "text": [
      "[1] 17352   628\n"
     ]
    },
    {
     "data": {
      "text/html": [
       "<table class=\"dataframe\">\n",
       "<caption>A tibble: 3 × 628</caption>\n",
       "<thead>\n",
       "\t<tr><th scope=col>Metadata_WellRow</th><th scope=col>Metadata_WellCol</th><th scope=col>Metadata_heart_number</th><th scope=col>Metadata_treatment</th><th scope=col>Metadata_dose</th><th scope=col>Metadata_ImageNumber</th><th scope=col>Metadata_Plate</th><th scope=col>Metadata_Well</th><th scope=col>Metadata_Cytoplasm_Parent_Cells</th><th scope=col>Metadata_Cytoplasm_Parent_Nuclei</th><th scope=col>⋯</th><th scope=col>Nuclei_Texture_InverseDifferenceMoment_Mitochondria_3_01_256</th><th scope=col>Nuclei_Texture_InverseDifferenceMoment_Mitochondria_3_03_256</th><th scope=col>Nuclei_Texture_SumEntropy_ER_3_03_256</th><th scope=col>Nuclei_Texture_SumEntropy_Golgi_3_01_256</th><th scope=col>Nuclei_Texture_SumEntropy_Mitochondria_3_03_256</th><th scope=col>Nuclei_Texture_SumVariance_Actin_3_01_256</th><th scope=col>Nuclei_Texture_SumVariance_ER_3_03_256</th><th scope=col>Nuclei_Texture_SumVariance_Golgi_3_01_256</th><th scope=col>Nuclei_Texture_SumVariance_Hoechst_3_01_256</th><th scope=col>Nuclei_Texture_SumVariance_Mitochondria_3_03_256</th></tr>\n",
       "\t<tr><th scope=col>&lt;chr&gt;</th><th scope=col>&lt;chr&gt;</th><th scope=col>&lt;chr&gt;</th><th scope=col>&lt;chr&gt;</th><th scope=col>&lt;chr&gt;</th><th scope=col>&lt;dbl&gt;</th><th scope=col>&lt;chr&gt;</th><th scope=col>&lt;chr&gt;</th><th scope=col>&lt;dbl&gt;</th><th scope=col>&lt;dbl&gt;</th><th scope=col>⋯</th><th scope=col>&lt;dbl&gt;</th><th scope=col>&lt;dbl&gt;</th><th scope=col>&lt;dbl&gt;</th><th scope=col>&lt;dbl&gt;</th><th scope=col>&lt;dbl&gt;</th><th scope=col>&lt;dbl&gt;</th><th scope=col>&lt;dbl&gt;</th><th scope=col>&lt;dbl&gt;</th><th scope=col>&lt;dbl&gt;</th><th scope=col>&lt;dbl&gt;</th></tr>\n",
       "</thead>\n",
       "<tbody>\n",
       "\t<tr><td>A</td><td>9</td><td>9</td><td>drug_x</td><td>5uM</td><td>1</td><td>localhost220513100001</td><td>A09</td><td>1</td><td>3</td><td>⋯</td><td>-1.341714</td><td>-0.7714563</td><td> 0.3830138</td><td> 1.5279864</td><td> 1.6033489</td><td>-0.4200762</td><td>-0.2362416</td><td> 0.20380578</td><td>-0.3547300</td><td> 0.16163561</td></tr>\n",
       "\t<tr><td>A</td><td>9</td><td>9</td><td>drug_x</td><td>5uM</td><td>1</td><td>localhost220513100001</td><td>A09</td><td>2</td><td>4</td><td>⋯</td><td> 1.211139</td><td> 0.9654590</td><td>-0.9223457</td><td>-0.4915354</td><td>-1.0004204</td><td>-0.4608149</td><td>-0.4684389</td><td>-0.20632511</td><td>-0.3310333</td><td>-0.18902928</td></tr>\n",
       "\t<tr><td>A</td><td>9</td><td>9</td><td>drug_x</td><td>5uM</td><td>1</td><td>localhost220513100001</td><td>A09</td><td>3</td><td>7</td><td>⋯</td><td>-1.117919</td><td>-1.4119451</td><td> 0.1231898</td><td> 0.9340863</td><td> 0.9589492</td><td>-0.4689575</td><td>-0.2375866</td><td>-0.03696811</td><td>-0.1078189</td><td>-0.06320025</td></tr>\n",
       "</tbody>\n",
       "</table>\n"
      ],
      "text/latex": [
       "A tibble: 3 × 628\n",
       "\\begin{tabular}{lllllllllllllllllllll}\n",
       " Metadata\\_WellRow & Metadata\\_WellCol & Metadata\\_heart\\_number & Metadata\\_treatment & Metadata\\_dose & Metadata\\_ImageNumber & Metadata\\_Plate & Metadata\\_Well & Metadata\\_Cytoplasm\\_Parent\\_Cells & Metadata\\_Cytoplasm\\_Parent\\_Nuclei & ⋯ & Nuclei\\_Texture\\_InverseDifferenceMoment\\_Mitochondria\\_3\\_01\\_256 & Nuclei\\_Texture\\_InverseDifferenceMoment\\_Mitochondria\\_3\\_03\\_256 & Nuclei\\_Texture\\_SumEntropy\\_ER\\_3\\_03\\_256 & Nuclei\\_Texture\\_SumEntropy\\_Golgi\\_3\\_01\\_256 & Nuclei\\_Texture\\_SumEntropy\\_Mitochondria\\_3\\_03\\_256 & Nuclei\\_Texture\\_SumVariance\\_Actin\\_3\\_01\\_256 & Nuclei\\_Texture\\_SumVariance\\_ER\\_3\\_03\\_256 & Nuclei\\_Texture\\_SumVariance\\_Golgi\\_3\\_01\\_256 & Nuclei\\_Texture\\_SumVariance\\_Hoechst\\_3\\_01\\_256 & Nuclei\\_Texture\\_SumVariance\\_Mitochondria\\_3\\_03\\_256\\\\\n",
       " <chr> & <chr> & <chr> & <chr> & <chr> & <dbl> & <chr> & <chr> & <dbl> & <dbl> & ⋯ & <dbl> & <dbl> & <dbl> & <dbl> & <dbl> & <dbl> & <dbl> & <dbl> & <dbl> & <dbl>\\\\\n",
       "\\hline\n",
       "\t A & 9 & 9 & drug\\_x & 5uM & 1 & localhost220513100001 & A09 & 1 & 3 & ⋯ & -1.341714 & -0.7714563 &  0.3830138 &  1.5279864 &  1.6033489 & -0.4200762 & -0.2362416 &  0.20380578 & -0.3547300 &  0.16163561\\\\\n",
       "\t A & 9 & 9 & drug\\_x & 5uM & 1 & localhost220513100001 & A09 & 2 & 4 & ⋯ &  1.211139 &  0.9654590 & -0.9223457 & -0.4915354 & -1.0004204 & -0.4608149 & -0.4684389 & -0.20632511 & -0.3310333 & -0.18902928\\\\\n",
       "\t A & 9 & 9 & drug\\_x & 5uM & 1 & localhost220513100001 & A09 & 3 & 7 & ⋯ & -1.117919 & -1.4119451 &  0.1231898 &  0.9340863 &  0.9589492 & -0.4689575 & -0.2375866 & -0.03696811 & -0.1078189 & -0.06320025\\\\\n",
       "\\end{tabular}\n"
      ],
      "text/markdown": [
       "\n",
       "A tibble: 3 × 628\n",
       "\n",
       "| Metadata_WellRow &lt;chr&gt; | Metadata_WellCol &lt;chr&gt; | Metadata_heart_number &lt;chr&gt; | Metadata_treatment &lt;chr&gt; | Metadata_dose &lt;chr&gt; | Metadata_ImageNumber &lt;dbl&gt; | Metadata_Plate &lt;chr&gt; | Metadata_Well &lt;chr&gt; | Metadata_Cytoplasm_Parent_Cells &lt;dbl&gt; | Metadata_Cytoplasm_Parent_Nuclei &lt;dbl&gt; | ⋯ ⋯ | Nuclei_Texture_InverseDifferenceMoment_Mitochondria_3_01_256 &lt;dbl&gt; | Nuclei_Texture_InverseDifferenceMoment_Mitochondria_3_03_256 &lt;dbl&gt; | Nuclei_Texture_SumEntropy_ER_3_03_256 &lt;dbl&gt; | Nuclei_Texture_SumEntropy_Golgi_3_01_256 &lt;dbl&gt; | Nuclei_Texture_SumEntropy_Mitochondria_3_03_256 &lt;dbl&gt; | Nuclei_Texture_SumVariance_Actin_3_01_256 &lt;dbl&gt; | Nuclei_Texture_SumVariance_ER_3_03_256 &lt;dbl&gt; | Nuclei_Texture_SumVariance_Golgi_3_01_256 &lt;dbl&gt; | Nuclei_Texture_SumVariance_Hoechst_3_01_256 &lt;dbl&gt; | Nuclei_Texture_SumVariance_Mitochondria_3_03_256 &lt;dbl&gt; |\n",
       "|---|---|---|---|---|---|---|---|---|---|---|---|---|---|---|---|---|---|---|---|---|\n",
       "| A | 9 | 9 | drug_x | 5uM | 1 | localhost220513100001 | A09 | 1 | 3 | ⋯ | -1.341714 | -0.7714563 |  0.3830138 |  1.5279864 |  1.6033489 | -0.4200762 | -0.2362416 |  0.20380578 | -0.3547300 |  0.16163561 |\n",
       "| A | 9 | 9 | drug_x | 5uM | 1 | localhost220513100001 | A09 | 2 | 4 | ⋯ |  1.211139 |  0.9654590 | -0.9223457 | -0.4915354 | -1.0004204 | -0.4608149 | -0.4684389 | -0.20632511 | -0.3310333 | -0.18902928 |\n",
       "| A | 9 | 9 | drug_x | 5uM | 1 | localhost220513100001 | A09 | 3 | 7 | ⋯ | -1.117919 | -1.4119451 |  0.1231898 |  0.9340863 |  0.9589492 | -0.4689575 | -0.2375866 | -0.03696811 | -0.1078189 | -0.06320025 |\n",
       "\n"
      ],
      "text/plain": [
       "  Metadata_WellRow Metadata_WellCol Metadata_heart_number Metadata_treatment\n",
       "1 A                9                9                     drug_x            \n",
       "2 A                9                9                     drug_x            \n",
       "3 A                9                9                     drug_x            \n",
       "  Metadata_dose Metadata_ImageNumber Metadata_Plate        Metadata_Well\n",
       "1 5uM           1                    localhost220513100001 A09          \n",
       "2 5uM           1                    localhost220513100001 A09          \n",
       "3 5uM           1                    localhost220513100001 A09          \n",
       "  Metadata_Cytoplasm_Parent_Cells Metadata_Cytoplasm_Parent_Nuclei ⋯\n",
       "1 1                               3                                ⋯\n",
       "2 2                               4                                ⋯\n",
       "3 3                               7                                ⋯\n",
       "  Nuclei_Texture_InverseDifferenceMoment_Mitochondria_3_01_256\n",
       "1 -1.341714                                                   \n",
       "2  1.211139                                                   \n",
       "3 -1.117919                                                   \n",
       "  Nuclei_Texture_InverseDifferenceMoment_Mitochondria_3_03_256\n",
       "1 -0.7714563                                                  \n",
       "2  0.9654590                                                  \n",
       "3 -1.4119451                                                  \n",
       "  Nuclei_Texture_SumEntropy_ER_3_03_256\n",
       "1  0.3830138                           \n",
       "2 -0.9223457                           \n",
       "3  0.1231898                           \n",
       "  Nuclei_Texture_SumEntropy_Golgi_3_01_256\n",
       "1  1.5279864                              \n",
       "2 -0.4915354                              \n",
       "3  0.9340863                              \n",
       "  Nuclei_Texture_SumEntropy_Mitochondria_3_03_256\n",
       "1  1.6033489                                     \n",
       "2 -1.0004204                                     \n",
       "3  0.9589492                                     \n",
       "  Nuclei_Texture_SumVariance_Actin_3_01_256\n",
       "1 -0.4200762                               \n",
       "2 -0.4608149                               \n",
       "3 -0.4689575                               \n",
       "  Nuclei_Texture_SumVariance_ER_3_03_256\n",
       "1 -0.2362416                            \n",
       "2 -0.4684389                            \n",
       "3 -0.2375866                            \n",
       "  Nuclei_Texture_SumVariance_Golgi_3_01_256\n",
       "1  0.20380578                              \n",
       "2 -0.20632511                              \n",
       "3 -0.03696811                              \n",
       "  Nuclei_Texture_SumVariance_Hoechst_3_01_256\n",
       "1 -0.3547300                                 \n",
       "2 -0.3310333                                 \n",
       "3 -0.1078189                                 \n",
       "  Nuclei_Texture_SumVariance_Mitochondria_3_03_256\n",
       "1  0.16163561                                     \n",
       "2 -0.18902928                                     \n",
       "3 -0.06320025                                     "
      ]
     },
     "metadata": {},
     "output_type": "display_data"
    }
   ],
   "source": [
    "# Load feature data (for calculating n)\n",
    "file_suffix = \"_sc_norm_fs_cellprofiler.csv.gz\"\n",
    "data_dir = file.path(\"..\", \"..\", \"..\", \"3.process-cfret-features\", \"data\")\n",
    "cp_file <- file.path(data_dir, paste0(plate, file_suffix))\n",
    "\n",
    "cp_df <- readr::read_csv(\n",
    "    cp_file,\n",
    "    col_types = readr::cols(\n",
    "        .default=\"d\",\n",
    "        Metadata_WellRow=\"c\",\n",
    "        Metadata_WellCol=\"c\",\n",
    "        Metadata_heart_number=\"c\",\n",
    "        Metadata_treatment=\"c\",\n",
    "        Metadata_dose=\"c\",\n",
    "        Metadata_Plate=\"c\",\n",
    "        Metadata_Well=\"c\"\n",
    "    )\n",
    ")\n",
    "\n",
    "print(dim(cp_df))\n",
    "head(cp_df, 3)"
   ]
  },
  {
   "cell_type": "markdown",
   "id": "769f9cb9-4932-4096-8b6c-7c686930a4ba",
   "metadata": {},
   "source": [
    "## Perform power analysis"
   ]
  },
  {
   "cell_type": "code",
   "execution_count": 5,
   "id": "e079d05d-b2e7-4604-bdd5-b322c2e27b10",
   "metadata": {},
   "outputs": [
    {
     "name": "stdout",
     "output_type": "stream",
     "text": [
      "[1]     9 17342\n",
      "[1] 8.547009e-05\n"
     ]
    }
   ],
   "source": [
    "# Define constants for power analysis\n",
    "n_conditions <- length(table(cp_df$Metadata_dose))  # The number of doses\n",
    "n_samples <- dim(cp_df)[1]\n",
    "alpha_standard <- 0.05\n",
    "\n",
    "u <- n_conditions - 1\n",
    "v <- n_samples - u - 1\n",
    "sig_level <- alpha_standard / dim(lm_results_df)[1]  # Multiple test adjusted\n",
    "power <- 0.8\n",
    "\n",
    "print(c(u, v))\n",
    "print(sig_level)"
   ]
  },
  {
   "cell_type": "code",
   "execution_count": 6,
   "id": "464feaef-8f07-435f-a8de-6245375fb205",
   "metadata": {},
   "outputs": [],
   "source": [
    "# Given all R2 values perform power analysis\n",
    "all_power_results <- list()\n",
    "for (cp_feature in lm_results_df$feature) {\n",
    "    # Subset to the given feature lm results\n",
    "    lm_result_subset_df <- lm_results_df %>%\n",
    "        dplyr::filter(feature == !!cp_feature)\n",
    "    \n",
    "    # Pull out the estimated R2 value\n",
    "    r2_val <- lm_result_subset_df %>% dplyr::pull(r2_score)\n",
    "    \n",
    "    # The power estimate is undefined for r2_val = 1, skip if so\n",
    "    if (r2_val == 1) {\n",
    "        all_power_results[[cp_feature]] <- c(cp_feature, u, v, sig_level, NULL, NULL)\n",
    "        next\n",
    "    }\n",
    "    \n",
    "    # Transform R2 score to F2 effect size\n",
    "    f2_val <- r2_val / (1 - r2_val)\n",
    "    \n",
    "    # Calculate power, note that v contains an estimate of sample size\n",
    "    power_result <- pwr.f2.test(u = u, v = NULL, f2 = f2_val, sig.level = sig_level, power = power)\n",
    "    \n",
    "    # Calculate required sample size from the v formula\n",
    "    estimated_sample_size <- power_result$v + u + 1\n",
    "    \n",
    "    # Save results for future visualization\n",
    "    all_power_results[[cp_feature]] <- c(cp_feature, u, v, sig_level, power, estimated_sample_size)\n",
    "    \n",
    "}"
   ]
  },
  {
   "cell_type": "code",
   "execution_count": 7,
   "id": "96c1f7ab-d7ec-4f62-8b81-e85011e69816",
   "metadata": {},
   "outputs": [
    {
     "name": "stderr",
     "output_type": "stream",
     "text": [
      "Warning message:\n",
      "“\u001b[1m\u001b[22mThe `x` argument of `as_tibble.matrix()` must have unique column names if `.name_repair` is omitted as of tibble 2.0.0.\n",
      "\u001b[36mℹ\u001b[39m Using compatibility `.name_repair`.”\n"
     ]
    },
    {
     "name": "stdout",
     "output_type": "stream",
     "text": [
      "[1] 585   6\n"
     ]
    },
    {
     "data": {
      "text/html": [
       "<table class=\"dataframe\">\n",
       "<caption>A tibble: 6 × 6</caption>\n",
       "<thead>\n",
       "\t<tr><th scope=col>feature</th><th scope=col>u</th><th scope=col>v</th><th scope=col>sig_level</th><th scope=col>power</th><th scope=col>estimated_sample_size</th></tr>\n",
       "\t<tr><th scope=col>&lt;chr&gt;</th><th scope=col>&lt;chr&gt;</th><th scope=col>&lt;chr&gt;</th><th scope=col>&lt;chr&gt;</th><th scope=col>&lt;chr&gt;</th><th scope=col>&lt;chr&gt;</th></tr>\n",
       "</thead>\n",
       "<tbody>\n",
       "\t<tr><td>Cytoplasm_AreaShape_Compactness    </td><td>9</td><td>17342</td><td>8.54700854700855e-05</td><td>0.8</td><td>796.167165604314</td></tr>\n",
       "\t<tr><td>Cytoplasm_AreaShape_Extent         </td><td>9</td><td>17342</td><td>8.54700854700855e-05</td><td>0.8</td><td>501.335706879138</td></tr>\n",
       "\t<tr><td>Cytoplasm_AreaShape_FormFactor     </td><td>9</td><td>17342</td><td>8.54700854700855e-05</td><td>0.8</td><td>359.066202160395</td></tr>\n",
       "\t<tr><td>Cytoplasm_AreaShape_MajorAxisLength</td><td>9</td><td>17342</td><td>8.54700854700855e-05</td><td>0.8</td><td>414.046782803633</td></tr>\n",
       "\t<tr><td>Cytoplasm_AreaShape_Perimeter      </td><td>9</td><td>17342</td><td>8.54700854700855e-05</td><td>0.8</td><td>770.524134001481</td></tr>\n",
       "\t<tr><td>Cytoplasm_AreaShape_Solidity       </td><td>9</td><td>17342</td><td>8.54700854700855e-05</td><td>0.8</td><td>319.348975542797</td></tr>\n",
       "</tbody>\n",
       "</table>\n"
      ],
      "text/latex": [
       "A tibble: 6 × 6\n",
       "\\begin{tabular}{llllll}\n",
       " feature & u & v & sig\\_level & power & estimated\\_sample\\_size\\\\\n",
       " <chr> & <chr> & <chr> & <chr> & <chr> & <chr>\\\\\n",
       "\\hline\n",
       "\t Cytoplasm\\_AreaShape\\_Compactness     & 9 & 17342 & 8.54700854700855e-05 & 0.8 & 796.167165604314\\\\\n",
       "\t Cytoplasm\\_AreaShape\\_Extent          & 9 & 17342 & 8.54700854700855e-05 & 0.8 & 501.335706879138\\\\\n",
       "\t Cytoplasm\\_AreaShape\\_FormFactor      & 9 & 17342 & 8.54700854700855e-05 & 0.8 & 359.066202160395\\\\\n",
       "\t Cytoplasm\\_AreaShape\\_MajorAxisLength & 9 & 17342 & 8.54700854700855e-05 & 0.8 & 414.046782803633\\\\\n",
       "\t Cytoplasm\\_AreaShape\\_Perimeter       & 9 & 17342 & 8.54700854700855e-05 & 0.8 & 770.524134001481\\\\\n",
       "\t Cytoplasm\\_AreaShape\\_Solidity        & 9 & 17342 & 8.54700854700855e-05 & 0.8 & 319.348975542797\\\\\n",
       "\\end{tabular}\n"
      ],
      "text/markdown": [
       "\n",
       "A tibble: 6 × 6\n",
       "\n",
       "| feature &lt;chr&gt; | u &lt;chr&gt; | v &lt;chr&gt; | sig_level &lt;chr&gt; | power &lt;chr&gt; | estimated_sample_size &lt;chr&gt; |\n",
       "|---|---|---|---|---|---|\n",
       "| Cytoplasm_AreaShape_Compactness     | 9 | 17342 | 8.54700854700855e-05 | 0.8 | 796.167165604314 |\n",
       "| Cytoplasm_AreaShape_Extent          | 9 | 17342 | 8.54700854700855e-05 | 0.8 | 501.335706879138 |\n",
       "| Cytoplasm_AreaShape_FormFactor      | 9 | 17342 | 8.54700854700855e-05 | 0.8 | 359.066202160395 |\n",
       "| Cytoplasm_AreaShape_MajorAxisLength | 9 | 17342 | 8.54700854700855e-05 | 0.8 | 414.046782803633 |\n",
       "| Cytoplasm_AreaShape_Perimeter       | 9 | 17342 | 8.54700854700855e-05 | 0.8 | 770.524134001481 |\n",
       "| Cytoplasm_AreaShape_Solidity        | 9 | 17342 | 8.54700854700855e-05 | 0.8 | 319.348975542797 |\n",
       "\n"
      ],
      "text/plain": [
       "  feature                             u v     sig_level            power\n",
       "1 Cytoplasm_AreaShape_Compactness     9 17342 8.54700854700855e-05 0.8  \n",
       "2 Cytoplasm_AreaShape_Extent          9 17342 8.54700854700855e-05 0.8  \n",
       "3 Cytoplasm_AreaShape_FormFactor      9 17342 8.54700854700855e-05 0.8  \n",
       "4 Cytoplasm_AreaShape_MajorAxisLength 9 17342 8.54700854700855e-05 0.8  \n",
       "5 Cytoplasm_AreaShape_Perimeter       9 17342 8.54700854700855e-05 0.8  \n",
       "6 Cytoplasm_AreaShape_Solidity        9 17342 8.54700854700855e-05 0.8  \n",
       "  estimated_sample_size\n",
       "1 796.167165604314     \n",
       "2 501.335706879138     \n",
       "3 359.066202160395     \n",
       "4 414.046782803633     \n",
       "5 770.524134001481     \n",
       "6 319.348975542797     "
      ]
     },
     "metadata": {},
     "output_type": "display_data"
    }
   ],
   "source": [
    "# Compile and output results\n",
    "power_results_df <- do.call(rbind, all_power_results) %>% dplyr::as_tibble()\n",
    "\n",
    "colnames(power_results_df) <- c(\"feature\", \"u\", \"v\", \"sig_level\", \"power\", \"estimated_sample_size\")\n",
    "\n",
    "# Output to file\n",
    "power_results_df %>%\n",
    "    readr::write_tsv(output_file)\n",
    "\n",
    "print(dim(power_results_df))\n",
    "head(power_results_df)"
   ]
  }
 ],
 "metadata": {
  "kernelspec": {
   "display_name": "R [conda env:cfret_figures] *",
   "language": "R",
   "name": "conda-env-cfret_figures-r"
  },
  "language_info": {
   "codemirror_mode": "r",
   "file_extension": ".r",
   "mimetype": "text/x-r-source",
   "name": "R",
   "pygments_lexer": "r",
   "version": "4.2.2"
  }
 },
 "nbformat": 4,
 "nbformat_minor": 5
}
